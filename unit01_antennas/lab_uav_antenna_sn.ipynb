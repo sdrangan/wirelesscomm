{
 "cells": [
  {
   "cell_type": "markdown",
   "id": "d61cb3f5",
   "metadata": {
    "colab_type": "text",
    "id": "view-in-github"
   },
   "source": [
    "<a href=\"https://colab.research.google.com/github/sdrangan/wirelesscomm-soln/blob/master/unit01_antennas/lab_uav_ant_soln_sn.ipynb\" target=\"_parent\"><img src=\"https://colab.research.google.com/assets/colab-badge.svg\" alt=\"Open In Colab\"/></a>"
   ]
  },
  {
   "cell_type": "markdown",
   "id": "vjo3LYmZW78-",
   "metadata": {
    "id": "vjo3LYmZW78-"
   },
   "source": [
    "# Simulating a 28 GHz antenna for a UAV\n",
    "\n",
    "For complex antennas, it is often necessary to perform detailed EM simulations in third-party software such as HFSS and then import the results into [Nvidia sionna](https://nvlabs.github.io/sionna/) for analysis. In this lab, we will import HFSS simulation data for a 28 GHz antenna designed for a UAV (unmanned aerial vehicle or drone). Antenna modeling is particularly important for mmWave aerial links since the directivity gain is necessary to overcome the high isotropic path loss of mmWave frequencies. Also, UAVs can be an arbitrary orientation and it is important to model the cases when the UAV is out of the beamwidth of the antenna.\n",
    "\n",
    "In going through this lab, you will learn to:\n",
    "* Import data from an EM simulation data\n",
    "* Compute directivity from the E-field values\n",
    "* Create custom antennas that can be used in Nvidia sionna\n",
    "* Display 2D and 3D antenna patterns\n",
    "* Compute the half-power beamwidth (HPBW) of an antenna\n",
    "* Compute fractions of power in angular areas\n",
    "* Estimate the path loss along a path\n",
    "\n",
    "\n",
    "The data for this lab was generously donated by Vasilii Semkin of VTT and taken from the paper:\n",
    "\n",
    "> Xia, W., Polese, M., Mezzavilla, M., Loianno, G., Rangan, S., & Zorzi, M.  [Millimeter wave remote UAV control and communications for public safety scenarios](https://ieeexplore.ieee.org/abstract/document/8824919), in IEEE International Conference on Sensing, Communication, and Networking (SECON), 2020\n",
    "\n",
    "The paper performs EM simulations on a ciccularly polarized 28 GHz antenna mounted to the bottom of a commercial DJI Matrice 100 quadrocopter. An image of the drone with the antenna and its pattern is shown in the following picture.\n",
    "\n",
    "<img src=\"https://github.com/sdrangan/wirelesscomm/blob/master/unit01_antennas/CP_patch_downwards_m100_3D_coord.png?raw=true\" alt=\"Alt Text\" width=\"500\" height=\"300\">\n",
    "\n",
    "\n",
    "*Submission*: Complete all the sections marked `TODO`, and run the cells to make sure your scipt is working. When you are satisfied with the results,  publish your code to generate an html file. Print the html file to PDF and submit the PDF.\n"
   ]
  },
  {
   "cell_type": "markdown",
   "id": "B66wViofvfAh",
   "metadata": {
    "id": "B66wViofvfAh"
   },
   "source": [
    "## Importing the Sionna Package\n",
    "We first follow the demo and import the sionna package.  If you are running this notebook on your own machine, you should install sionna.  The code below will install sionna on Google colab."
   ]
  },
  {
   "cell_type": "code",
   "execution_count": null,
   "id": "Jz4OTt6svutB",
   "metadata": {
    "colab": {
     "base_uri": "https://localhost:8080/"
    },
    "id": "Jz4OTt6svutB",
    "outputId": "256cf441-3b93-4b92-9ffd-36812f2a1d92"
   },
   "outputs": [],
   "source": [
    "import os\n",
    "if os.getenv(\"CUDA_VISIBLE_DEVICES\") is None:\n",
    "    gpu_num = 0 # Use \"\" to use the CPU\n",
    "    os.environ[\"CUDA_VISIBLE_DEVICES\"] = f\"{gpu_num}\"\n",
    "os.environ['TF_CPP_MIN_LOG_LEVEL'] = '3'\n",
    "\n",
    "# Import Sionna\n",
    "try:\n",
    "    import sionna as sn\n",
    "except ImportError as e:\n",
    "    # Install Sionna if package is not already installed\n",
    "    import os\n",
    "    !pip install sionna\n",
    "    #os.system(\"pip install sionna\")\n",
    "    import sionna as sn\n",
    "\n",
    "# Configure the notebook to use only a single GPU and allocate only as much memory as needed\n",
    "# For more details, see https://www.tensorflow.org/guide/gpu\n",
    "import tensorflow as tf\n",
    "gpus = tf.config.list_physical_devices('GPU')\n",
    "if gpus:\n",
    "    try:\n",
    "        tf.config.experimental.set_memory_growth(gpus[0], True)\n",
    "    except RuntimeError as e:\n",
    "        print(e)\n",
    "# Avoid warnings from TensorFlow\n",
    "tf.get_logger().setLevel('ERROR')"
   ]
  },
  {
   "cell_type": "markdown",
   "id": "rUQDkVyZwF6a",
   "metadata": {
    "id": "rUQDkVyZwF6a"
   },
   "source": [
    "While Nvidia's sionna has enormous number of features, it does not have a way to directly create an antenna with a custom antenna pattern.  So, I have created a class to help with custom antenans in `sionnautils` package. We import this package as well."
   ]
  },
  {
   "cell_type": "code",
   "execution_count": null,
   "id": "ieBsgpLowGz5",
   "metadata": {
    "colab": {
     "base_uri": "https://localhost:8080/"
    },
    "id": "ieBsgpLowGz5",
    "outputId": "a351183c-51c5-4127-c829-82a1c48eccd2"
   },
   "outputs": [],
   "source": [
    "# Import Sionna utils from the wireless class\n",
    "try:\n",
    "    import sionnautils\n",
    "except ImportError as e:\n",
    "    # Install Sionna if package is not already installed\n",
    "    !pip install git+https://github.com/sdrangan/wirelesscomm.git\n",
    "    import sionnautils\n"
   ]
  },
  {
   "cell_type": "markdown",
   "id": "juOtpH5Nvfvv",
   "metadata": {
    "id": "juOtpH5Nvfvv"
   },
   "source": [
    "# Load the data\n",
    "\n",
    "To begin analyzing the UAV antenna pattern, we first download the data file with the following command."
   ]
  },
  {
   "cell_type": "code",
   "execution_count": null,
   "id": "742cdda1-9a01-4ef8-951b-a5d065e0c196",
   "metadata": {
    "colab": {
     "base_uri": "https://localhost:8080/"
    },
    "id": "742cdda1-9a01-4ef8-951b-a5d065e0c196",
    "outputId": "58712cc8-42fe-4a42-dd8c-248b2ae6888b"
   },
   "outputs": [],
   "source": [
    "import os\n",
    "import requests\n",
    "\n",
    "# Updated file_url to point to the raw file on GitHub\n",
    "file_url = \"https://github.com/sdrangan/wirelesscomm/blob/master/unit01_antennas/uav_patch_bottom.csv\"\n",
    "file_url = file_url+\"?raw=true\"\n",
    "file_name = \"uav_patch_bottom.csv\"\n",
    "\n",
    "if not os.path.exists(file_name):\n",
    "  try:\n",
    "    response = requests.get(file_url, stream=True)\n",
    "    response.raise_for_status()  # Raise an exception for bad status codes\n",
    "\n",
    "    with open(file_name, 'wb') as file:\n",
    "      for chunk in response.iter_content(chunk_size=8192):\n",
    "        file.write(chunk)\n",
    "\n",
    "    print(f\"File '{file_name}' downloaded successfully.\")\n",
    "\n",
    "  except requests.exceptions.RequestException as e:\n",
    "    print(f\"Error downloading file: {e}\")\n",
    "\n",
    "else:\n",
    "  print(f\"File '{file_name}' already exists.\")"
   ]
  },
  {
   "cell_type": "markdown",
   "id": "SnvPKroBbKLz",
   "metadata": {
    "id": "SnvPKroBbKLz"
   },
   "source": [
    "Read the csv file as a pandas data frame, `df`, and display the first few rows with the `df.head()` command."
   ]
  },
  {
   "cell_type": "code",
   "execution_count": null,
   "id": "tbDJsWb1lnWK",
   "metadata": {
    "colab": {
     "base_uri": "https://localhost:8080/",
     "height": 206
    },
    "id": "tbDJsWb1lnWK",
    "outputId": "2eaccea6-9af8-4a6c-e9c7-a931d63cf37e"
   },
   "outputs": [],
   "source": [
    "import pandas as pd\n",
    "\n",
    "# TODO\n",
    "#   df = pd.read_csv(...)\n",
    "#   df.head()"
   ]
  },
  {
   "cell_type": "markdown",
   "id": "njDYhgmGcwt_",
   "metadata": {
    "id": "njDYhgmGcwt_"
   },
   "source": [
    "You should see that the dataframe has columns for the azimuth and elevation angles as well as the real and imaginary components of the E-field for both the H and V polarizations.  Load these into numpy arrays.  Then, compute the complex E-fields, `Ev` and `Eh`."
   ]
  },
  {
   "cell_type": "code",
   "execution_count": null,
   "id": "D2vR3LokmW99",
   "metadata": {
    "id": "D2vR3LokmW99"
   },
   "outputs": [],
   "source": [
    "import numpy as np\n",
    "import matplotlib.pyplot as plt\n",
    "\n",
    "# TODO:  Read the columns from the dataframe\n",
    "# into numpy arrays\n",
    "#   az = ...\n",
    "#   el = ...\n",
    "#   Ev_re = ...\n",
    "#   Ev_im = ...\n",
    "#   Eh_re = ...\n",
    "#   Eh_im = ...\n",
    "\n",
    "# TODO:  Compute the complex E-fields\n",
    "#   Ev = ...\n",
    "#   Eh = ...\n"
   ]
  },
  {
   "cell_type": "markdown",
   "id": "JlsXmYPPlLsI",
   "metadata": {
    "id": "JlsXmYPPlLsI"
   },
   "source": [
    "## Computing the Directivity\n",
    "\n",
    "Recall that the directivity is proportional to the E-field.  That is,\n",
    "~~~\n",
    "   dir = c*Epow\n",
    "~~~\n",
    "where `c` is some constant and:\n",
    "~~~\n",
    "  Epow = abs(Ev)**2 + abs(Eh)**2\n",
    "~~~\n",
    "To compute the constant `c`, we know that the average of the directivity `dir * cos(el)` over a spherical integral must be one. Hence, if we take mean over the discrete values, you should have that:\n",
    "~~~\n",
    "    mean(dir.*cos(el)) / mean(cos(el)) = 1\n",
    "~~~\n",
    "You can use this relation to find the scale factor, `c`.\n",
    "\n",
    "TODO: Find the scale factor `c` and compute a vector, `dir`, with the directivity of each point in dBi. Remember, numpy's `cos()` function takes the argument in radians.\n"
   ]
  },
  {
   "cell_type": "code",
   "execution_count": null,
   "id": "bd_0BrFiokfv",
   "metadata": {
    "colab": {
     "base_uri": "https://localhost:8080/"
    },
    "id": "bd_0BrFiokfv",
    "outputId": "9212b308-2d1d-4138-f8be-0646baaa3e1c"
   },
   "outputs": [],
   "source": [
    "# TODO:  Find and print c\n",
    "#   Epow = ...\n",
    "#   c = ...\n",
    "#   print('c=...)\n",
    "\n",
    "\n",
    "# TODO:  Compute the directivity in dBi\n",
    "#   dir = ...\n",
    "\n",
    "# TODO:  Print the max directitivy"
   ]
  },
  {
   "cell_type": "markdown",
   "id": "m9EJjvmypVjl",
   "metadata": {
    "id": "m9EJjvmypVjl"
   },
   "source": [
    "We will next plot the directivity.  In the data, you will see there are:\n",
    "* 181 azimuth angular steps from -180 to 180 in 2 degrees steps\n",
    "* 91 elevation angle steps from -90 to 90, also in 2 degree steps\n",
    "\n",
    "Rearrange the directivity to a `91 x 181` matrix so that the azimuth angles varies over the columns and the elevation angles vary over the rows.  Put the -90 degree at the top.  In this case, the -90 degree elevation is actually 0 degree inclination since, and 90 degree elevation is 180 degree inclination (pointing in the negative z-axis).  The reason is that the measurements were done upside down."
   ]
  },
  {
   "cell_type": "code",
   "execution_count": null,
   "id": "5P5WttWaqkgy",
   "metadata": {
    "id": "5P5WttWaqkgy"
   },
   "outputs": [],
   "source": [
    "naz = 181\n",
    "nel = 91\n",
    "\n",
    "# TODO:  Reshape the directivity to a grid\n",
    "#  dir_grid = np.reshape(dir, ...)"
   ]
  },
  {
   "cell_type": "markdown",
   "id": "HO8rY4wgqniA",
   "metadata": {
    "id": "HO8rY4wgqniA"
   },
   "source": [
    "Now use the `plt.imshow` method to plot a heat map of the directivity.  Set the limits of the axes with the `extent` parameter and label the axes.  Add a colorbar.  You should see that the directivity is strong in the lower hemisphere, since the antenna is designed to point down for ground coverage."
   ]
  },
  {
   "cell_type": "code",
   "execution_count": null,
   "id": "lNWDTqwVqlfK",
   "metadata": {
    "colab": {
     "base_uri": "https://localhost:8080/",
     "height": 466
    },
    "id": "lNWDTqwVqlfK",
    "outputId": "040563c4-95d2-4189-ad83-763a0619d132"
   },
   "outputs": [],
   "source": [
    "# TODO:\n",
    "#   plt.imshow(...)\n"
   ]
  },
  {
   "cell_type": "markdown",
   "id": "9_dcn_RWuY9e",
   "metadata": {
    "id": "9_dcn_RWuY9e"
   },
   "source": [
    "## Creating a Custom Antenna in Sionna\n",
    "\n",
    "To create a custom antenna from a grid of points, I have created a class `PatternInterpGrid` which is a tensorflow interpolation on a grid.  You can see the code if you like in the [github code for antennas](https://github.com/sdrangan/wirelesscomm/blob/master/sionnautils/antenna.py).  In this lab, you do not need to modify this code -- you can just use it.\n",
    "\n",
    "To use it we first need to scale the `Ev` and `Eh` arrays by the constant `sqrt(c)` so that `Epow` has an average value of one.  Then, reshape them to `(nel,naz)` as you did for the directivity.\n",
    "  "
   ]
  },
  {
   "cell_type": "code",
   "execution_count": null,
   "id": "LL7Z0bM5xyLX",
   "metadata": {
    "id": "LL7Z0bM5xyLX"
   },
   "outputs": [],
   "source": [
    "# TODO:  Scale and reshape Ev and Eh\n",
    "#   Ev_grid = ...\n",
    "#   Eh_grid = ...\n",
    "\n",
    "\n",
    "# Convert to tensorflow constants\n",
    "Ev_grid = tf.constant(Ev_grid, dtype=tf.complex64)\n",
    "Eh_grid = tf.constant(Eh_grid, dtype=tf.complex64)"
   ]
  },
  {
   "cell_type": "markdown",
   "id": "F9ne89vVurih",
   "metadata": {
    "id": "F9ne89vVurih"
   },
   "source": [
    "We can now create a custom antenna as follows:"
   ]
  },
  {
   "cell_type": "code",
   "execution_count": null,
   "id": "_b6tjyCyvGEG",
   "metadata": {
    "id": "_b6tjyCyvGEG"
   },
   "outputs": [],
   "source": [
    "import sionnautils\n",
    "from sionnautils.antenna import PatternInterpGrid\n",
    "\n",
    "pg = PatternInterpGrid(Ev_grid, Eh_grid, dtype_real=tf.float32)"
   ]
  },
  {
   "cell_type": "markdown",
   "id": "vYPRKOQbxV30",
   "metadata": {
    "id": "vYPRKOQbxV30"
   },
   "source": [
    "We can plot the antenna pattern with the sionna visualization function.  You will see that the pattern is a bit \"spiky\" since the interpolation is nearest neighbor.  I may improve the interpolation to find a smoother algorithm.  In any case, you should see that the antenna pattern gives good coverage in the lower hemisphere."
   ]
  },
  {
   "cell_type": "code",
   "execution_count": null,
   "id": "EKyBCB9yyCDq",
   "metadata": {
    "colab": {
     "base_uri": "https://localhost:8080/",
     "height": 1000
    },
    "id": "EKyBCB9yyCDq",
    "outputId": "d1c72a6e-d2c7-4c25-f512-fa090784ef01"
   },
   "outputs": [],
   "source": [
    "sn.rt.antenna.visualize(pg.pattern)"
   ]
  },
  {
   "cell_type": "markdown",
   "id": "qLO1kodd0j4H",
   "metadata": {
    "id": "qLO1kodd0j4H"
   },
   "source": [
    "## Plotting the Directivity on a Flight Path\n",
    "We will follow the demo in class to plot the gain along a flight path.\n",
    "\n",
    "We first create an empty scene."
   ]
  },
  {
   "cell_type": "code",
   "execution_count": null,
   "id": "bsADe8D1xemr",
   "metadata": {
    "id": "bsADe8D1xemr"
   },
   "outputs": [],
   "source": [
    "import sionnautils.custom_scene as custom_scene\n",
    "scene = sn.rt.load_scene(custom_scene.get_scene('empty_scene'))\n",
    "\n",
    "# Set the scene frequency\n",
    "fc = 3.5e9\n",
    "scene.frequency = fc"
   ]
  },
  {
   "cell_type": "markdown",
   "id": "kCab5SJT1ckX",
   "metadata": {
    "id": "kCab5SJT1ckX"
   },
   "source": [
    "Next set the TX position at the origin.  Set the RX positions corresponding on `npts` on a line of flight from `rxstart` to `rxend`.  Plot the flight trajectory."
   ]
  },
  {
   "cell_type": "code",
   "execution_count": null,
   "id": "2Wf0_qmA1SML",
   "metadata": {
    "colab": {
     "base_uri": "https://localhost:8080/",
     "height": 432
    },
    "id": "2Wf0_qmA1SML",
    "outputId": "381cf66e-c267-4a2d-8c86-02f06b387394"
   },
   "outputs": [],
   "source": [
    "# TODO:  Set the transmitter position at [0,0,0]\n",
    "#  txpos = ...\n",
    "\n",
    "\n",
    "# RX path parameters\n",
    "npts = 100;\n",
    "rxstart = np.array([-300, -20, 30])\n",
    "rxend = np.array([300, 20, 100])\n",
    "\n",
    "# TODO:  Set the RX positions where rxpos[i,:] is the position at point i\n",
    "#   rxpos = ...\n",
    "]\n",
    "\n",
    "# TODO:  Plot the fight trajectory\n",
    "# Creating the 3D plot\n"
   ]
  },
  {
   "cell_type": "markdown",
   "id": "NwRg462Q3YOu",
   "metadata": {
    "id": "NwRg462Q3YOu"
   },
   "source": [
    "Next set the TX array to a \"tr38901\" pattern with vertical polarization.  This is a good model for a commercial base station.  Set the RX array for the UAV to the custom pattern.  Note that for a custom antenna, you do not need to set the polarization parameter."
   ]
  },
  {
   "cell_type": "code",
   "execution_count": null,
   "id": "AlzRJ9A73Hqu",
   "metadata": {
    "id": "AlzRJ9A73Hqu"
   },
   "outputs": [],
   "source": [
    "# TODO:  Configure antenna array for all transmitters\n",
    "#   scene.tx_array = sn.rt.PlanarArray(\n",
    "#                        pattern='tr38901', polarization='V', ...)\n",
    "\n",
    "\n",
    "# TODO:  Configure antenna array for all the receivers using the custom pattern\n",
    "#   scene.rx_array = sn.rt.PlanarArray(\n",
    "#                        pattern=pg.pattern, ...)\n"
   ]
  },
  {
   "cell_type": "markdown",
   "id": "tErw8Umr5ndv",
   "metadata": {
    "id": "tErw8Umr5ndv"
   },
   "source": [
    "Next, we add the transmitter (the ground base station) and receivers (the UAV flight points).  For the ground base station we will orient it so that it is pointed upwards by having it look at a point directly above it."
   ]
  },
  {
   "cell_type": "code",
   "execution_count": null,
   "id": "CQS7lT4w54GR",
   "metadata": {
    "id": "CQS7lT4w54GR"
   },
   "outputs": [],
   "source": [
    "# TODO:  Create transmitter and add it to the scene\n",
    "#   tx = sn.rt.Transmitter(...)\n",
    "#   scene.add(...)\n",
    "\n",
    "\n",
    "# TODO:  Point the TX to look at a point directly above it, say [0,0,1]\n",
    "\n",
    "# TODO:  Add the receivers"
   ]
  },
  {
   "cell_type": "markdown",
   "id": "NAoYhf2D6TrP",
   "metadata": {
    "id": "NAoYhf2D6TrP"
   },
   "source": [
    "Compute the propagation paths from the TX to the receivers.  Set the `paths.normalize_delays=False` and use the `paths.cir()` method to get the gain and delays of the paths.  Convert the gains and delays to numpy vectors."
   ]
  },
  {
   "cell_type": "code",
   "execution_count": null,
   "id": "qCHViHAs6O_Z",
   "metadata": {
    "id": "qCHViHAs6O_Z"
   },
   "outputs": [],
   "source": [
    "# TODO:  Compute the paths\n",
    "#   paths = scene.compute_paths()\n",
    "#   a, tau = ...\n",
    "\n",
    "\n",
    "# TODO:  Convert to numpy vectors\n",
    "#   a = ...\n",
    "#   tau = ..."
   ]
  },
  {
   "cell_type": "markdown",
   "id": "DNVS9ahm617F",
   "metadata": {
    "id": "DNVS9ahm617F"
   },
   "source": [
    "Plot the delay in micro-seconds vs. the x-position of the UAV.  Compare to the expected delay.  Label the axes."
   ]
  },
  {
   "cell_type": "code",
   "execution_count": null,
   "id": "ZCHQUdbi6x58",
   "metadata": {
    "colab": {
     "base_uri": "https://localhost:8080/",
     "height": 466
    },
    "id": "ZCHQUdbi6x58",
    "outputId": "1635bab3-2ba8-47ab-ce1f-81a57b3ca2ba"
   },
   "outputs": [],
   "source": [
    "# TODO:\n",
    "#   tau_est = ...\n",
    "#   plot(...)\n"
   ]
  },
  {
   "cell_type": "markdown",
   "id": "O_B64Y_c7iYj",
   "metadata": {
    "id": "O_B64Y_c7iYj"
   },
   "source": [
    "Plot the gain along the path vs. the x-position of the UAV.  Also plot the theoretical omni-directional gain.  You should see that the measured gain is higher than the omni-directional gain when the UAV is directly above the base station since both antennas are pointing at one another.  However, as it moves away, the directivity of both antennas drop and the gain decreases."
   ]
  },
  {
   "cell_type": "code",
   "execution_count": null,
   "id": "GC1RTnB963et",
   "metadata": {
    "colab": {
     "base_uri": "https://localhost:8080/",
     "height": 466
    },
    "id": "GC1RTnB963et",
    "outputId": "61159ee7-914d-4e94-d71b-b5b5f0137289"
   },
   "outputs": [],
   "source": [
    "# TODO:  Compute the gain in dB from the `a` vector\n",
    "#  gain = ...\n",
    "\n",
    "# TODO:  Compute the theoretical free space path loss with omni antenna\n",
    "#   gain_omni = ...\n",
    "\n",
    "\n",
    "# TODO:  Plot the gains vs. UAV x-position\n"
   ]
  },
  {
   "cell_type": "markdown",
   "id": "WFlnDZ6HDaY7",
   "metadata": {
    "id": "WFlnDZ6HDaY7"
   },
   "source": [
    "## Measuring the Half-Power Beamwidth\n",
    "\n",
    "Finally, we will measure the half-power beamwidth.  Since the antenna is mostly directed in the elevation direction, we will measure the pattern in the elevation.  To do this:\n",
    "*  Measure the electric fields, `Ev` and `Eh`, for `theta` between 0 and pi a|nd `phi=0`."
   ]
  },
  {
   "cell_type": "code",
   "execution_count": null,
   "id": "lf77etpD7Rzg",
   "metadata": {
    "colab": {
     "base_uri": "https://localhost:8080/",
     "height": 449
    },
    "id": "lf77etpD7Rzg",
    "outputId": "0e5bfb4d-b527-4445-c85c-18c541cd950b"
   },
   "outputs": [],
   "source": [
    "ntheta = 180\n",
    "\n",
    "# TODO:\n",
    "#  theta = tf.linspace(...)\n",
    "#  phi = tf.zeros(...)\n",
    "\n",
    "# TODO:  Get the Ev and Eh from the pg.pattern function\n",
    "#  Ev, Eh = ...\n",
    "#  convert to numpy arrays\n",
    "\n",
    "\n",
    "# TODO:  Compute the directivity\n",
    "#  D = ...\n",
    "\n",
    "\n",
    "# TODO:  Plot the directivity vs theta\n",
    "\n"
   ]
  },
  {
   "cell_type": "markdown",
   "id": "ZgxyvrdxE9wZ",
   "metadata": {
    "id": "ZgxyvrdxE9wZ"
   },
   "source": [
    "Since the gain has a maximum at `theta=180` degrees, the 3dB HPBW is the defined as\n",
    "~~~\n",
    "    hpbw = 2*(180-theta3db)\n",
    "~~~\n",
    "where `theta3db` is the angle at which the directivity is 3dB below the maximum.  Find `theta3db` and `hpbw`."
   ]
  },
  {
   "cell_type": "code",
   "execution_count": null,
   "id": "f1lBSnhdD9tY",
   "metadata": {
    "colab": {
     "base_uri": "https://localhost:8080/"
    },
    "id": "f1lBSnhdD9tY",
    "outputId": "8c15d56e-9fd6-4fe0-8224-225107d4175a"
   },
   "outputs": [],
   "source": [
    "# TODO:\n",
    "#  theta3db = ...\n",
    "#  hpbw = ...\n",
    "\n",
    "# Find the value i where D[i] >= Dmax - 3\n",
    "\n"
   ]
  },
  {
   "cell_type": "code",
   "execution_count": null,
   "id": "PPZ7qebaF26M",
   "metadata": {
    "id": "PPZ7qebaF26M"
   },
   "outputs": [],
   "source": []
  }
 ],
 "metadata": {
  "colab": {
   "include_colab_link": true,
   "provenance": []
  },
  "kernelspec": {
   "display_name": "Python 3 (ipykernel)",
   "language": "python",
   "name": "python3"
  },
  "language_info": {
   "codemirror_mode": {
    "name": "ipython",
    "version": 3
   },
   "file_extension": ".py",
   "mimetype": "text/x-python",
   "name": "python",
   "nbconvert_exporter": "python",
   "pygments_lexer": "ipython3",
   "version": "3.11.5"
  }
 },
 "nbformat": 4,
 "nbformat_minor": 5
}
