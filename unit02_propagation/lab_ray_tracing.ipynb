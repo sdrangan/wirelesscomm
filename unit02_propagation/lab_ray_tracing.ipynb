{
 "cells": [
  {
   "cell_type": "markdown",
   "id": "vjo3LYmZW78-",
   "metadata": {
    "id": "vjo3LYmZW78-"
   },
   "source": [
    "# Ray Tracing and Channel Data Exploration\n",
    "\n",
    "Evaluation of wireless systems requires simulation in realistic environments.  In modern research, the trend has been use ray tracing where propagation is simulated based on a 3D model of the environment.  A valuable feature of Nvidia's sionna package is that has integrated a [ray tracing module](https://nvlabs.github.io/sionna/api/rt.html) module that can be used with the communications library to evaluate complex systems in actual environments.  Unfortunately, as you will see in the simulations below, the performance of Sionna is very slow compared to a commercial ray tracer like Remcom's.  Also, on most machines, it can only handle a very limited number of data points.  Still it is an excellent learning tool, easy-to-use, and completely free.\n",
    "\n",
    "Nvidia's sionna documentation already has many examples that you can use a template for your work.  In this lab, we will look at a few additional features.  Specifically, in going through this lab, you will learn to:\n",
    "\n",
    "* Read and display scene\n",
    "* Create a grid of locations and identify which points are indoor and outdoor\n",
    "* Characterize the link state and plot the link state probability vs distance\n",
    "* Compute the total path loss and plot the path loss vs. distance\n",
    "\n",
    "*Submission*: Complete all the sections marked `TODO`, and run the cells to make sure your scipt is working. When you are satisfied with the results,  publish your code to generate an html file. Print the html file to PDF and submit the PDF.\n"
   ]
  },
  {
   "cell_type": "markdown",
   "id": "B66wViofvfAh",
   "metadata": {
    "id": "B66wViofvfAh"
   },
   "source": [
    "## Importing the Sionna Package\n",
    "We first follow the demo and import the sionna package.  If you are running this notebook on your own machine, you should install sionna.  The code below will install sionna on Google colab."
   ]
  },
  {
   "cell_type": "code",
   "execution_count": null,
   "id": "Jz4OTt6svutB",
   "metadata": {
    "colab": {
     "base_uri": "https://localhost:8080/"
    },
    "id": "Jz4OTt6svutB",
    "outputId": "256cf441-3b93-4b92-9ffd-36812f2a1d92"
   },
   "outputs": [],
   "source": [
    "import os\n",
    "if os.getenv(\"CUDA_VISIBLE_DEVICES\") is None:\n",
    "    gpu_num = 0 # Use \"\" to use the CPU\n",
    "    os.environ[\"CUDA_VISIBLE_DEVICES\"] = f\"{gpu_num}\"\n",
    "os.environ['TF_CPP_MIN_LOG_LEVEL'] = '3'\n",
    "\n",
    "# Import Sionna\n",
    "try:\n",
    "    import sionna as sn\n",
    "except ImportError as e:\n",
    "    # Install Sionna if package is not already installed\n",
    "    import os\n",
    "    !pip install sionna\n",
    "    #os.system(\"pip install sionna\")\n",
    "    import sionna as sn\n",
    "\n",
    "# Configure the notebook to use only a single GPU and allocate only as much memory as needed\n",
    "# For more details, see https://www.tensorflow.org/guide/gpu\n",
    "import tensorflow as tf\n",
    "gpus = tf.config.list_physical_devices('GPU')\n",
    "if gpus:\n",
    "    try:\n",
    "        tf.config.experimental.set_memory_growth(gpus[0], True)\n",
    "    except RuntimeError as e:\n",
    "        print(e)\n",
    "# Avoid warnings from TensorFlow\n",
    "tf.get_logger().setLevel('ERROR')"
   ]
  },
  {
   "cell_type": "markdown",
   "id": "rUQDkVyZwF6a",
   "metadata": {
    "id": "rUQDkVyZwF6a"
   },
   "source": [
    "While sionna has a number of features for coverage maps, I needed to add some custom capabilities.  I added these to a `sionnautils` package in the class github. We import this package as well."
   ]
  },
  {
   "cell_type": "code",
   "execution_count": null,
   "id": "ieBsgpLowGz5",
   "metadata": {
    "colab": {
     "base_uri": "https://localhost:8080/"
    },
    "id": "ieBsgpLowGz5",
    "outputId": "a351183c-51c5-4127-c829-82a1c48eccd2"
   },
   "outputs": [],
   "source": [
    "# Import Sionna utils from the wireless class\n",
    "try:\n",
    "    import sionnautils\n",
    "except ImportError as e:\n",
    "    # Install Sionna if package is not already installed\n",
    "    !pip install git+https://github.com/sdrangan/wirelesscomm.git\n",
    "    import sionnautils\n"
   ]
  },
  {
   "cell_type": "code",
   "execution_count": null,
   "id": "5229fdaf-5a43-4dba-99c3-ec88642b0e5d",
   "metadata": {},
   "outputs": [],
   "source": [
    "\n",
    "# Colab does currently not support the latest version of ipython.\n",
    "# Thus, the preview does not work in Colab. However, whenever possible we\n",
    "# strongly recommend to use the scene preview mode.\n",
    "try: # detect if the notebook runs in Colab\n",
    "    import google.colab\n",
    "    no_preview = True # deactivate preview\n",
    "except:\n",
    "    if os.getenv(\"SIONNA_NO_PREVIEW\"):\n",
    "        no_preview = True\n",
    "    else:\n",
    "        no_preview = False\n",
    "\n",
    "resolution = [480,320] # increase for higher quality of renderings\n",
    "\n",
    "# Define magic cell command to skip a cell if needed\n",
    "from IPython.core.magic import register_cell_magic\n",
    "from IPython import get_ipython\n",
    "\n",
    "@register_cell_magic\n",
    "def skip_if(line, cell):\n",
    "    if eval(line):\n",
    "        return\n",
    "    get_ipython().run_cell(cell)"
   ]
  },
  {
   "cell_type": "code",
   "execution_count": null,
   "id": "db64e0b0-5ba3-4d02-8052-8f7a917ba69b",
   "metadata": {},
   "outputs": [],
   "source": [
    "import numpy as np\n",
    "import matplotlib.pyplot as plt"
   ]
  },
  {
   "cell_type": "markdown",
   "id": "25dd824d-1cfe-4000-80ce-ce55e0d963ea",
   "metadata": {},
   "source": [
    "## Load the Scene\n",
    "We will follow the [Nvidia sionna demo](https://nvlabs.github.io/sionna/examples/Sionna_Ray_Tracing_Introduction.html) and load a scene.  We will use one of Nvidia's sionna's in-built scenes of the center of Munich.  However, Nvidia also has a nice [video](https://www.youtube.com/watch?v=7xHLDxUaQ7c) on building your own scenes from OpenStreetMap and Blender."
   ]
  },
  {
   "cell_type": "code",
   "execution_count": null,
   "id": "ac79bd95-be8e-4dc2-96ac-7c82a0f28a68",
   "metadata": {},
   "outputs": [],
   "source": [
    "# Load integrated scene\n",
    "scene = sn.rt.load_scene(sn.rt.scene.munich)"
   ]
  },
  {
   "cell_type": "markdown",
   "id": "9dbbe8a0-7500-4e2f-8ee5-d9f9308cee9f",
   "metadata": {},
   "source": [
    "We can view the scene.  If you are using Google colab, colab does not support interactive viewers.  In this case, the following cell can be executed to provide a static view of the scene.  If you are on a different system, you may be able to use the scene preview where you can use the interact with the map."
   ]
  },
  {
   "cell_type": "code",
   "execution_count": null,
   "id": "bde6b85c-aba6-4348-945c-baba15551d3e",
   "metadata": {},
   "outputs": [],
   "source": [
    "# Render scene\n",
    "if no_preview:\n",
    "    scene.render(camera=\"scene-cam-0\", num_samples=512);"
   ]
  },
  {
   "cell_type": "code",
   "execution_count": null,
   "id": "02d6b38a-cf68-4817-832d-ec79a0e67098",
   "metadata": {},
   "outputs": [],
   "source": [
    "%%skip_if no_preview\n",
    "# Open 3D preview (only works in Jupyter notebook)\n",
    "scene.preview()"
   ]
  },
  {
   "cell_type": "markdown",
   "id": "c57103ef-8711-4d45-b45c-e51eb7bdb267",
   "metadata": {},
   "source": [
    "## Creating a Coverage Grid\n",
    "\n",
    "For this lab, we will make measurements on a grid of points.  Sionna has a [coverage map](https://nvlabs.github.io/sionna/api/rt.html#coverage-maps) class, but I found it to be not very flexible.  So, I wrote a simple class that help create grid points and classify them.  You can create the grid points with the following commands.  In this lab, we use a coarse grid at `10m` spacing.  But, in reality, you would want to make the spacing a little smaller.  I used the `10m` grid only to make this lab run relatively fast.\n",
    "\n",
    "The `cm.set_grid()` method creates a set of grid points of points to run analysis.  The `cm.compute_grid_attributes()` performs some simple geometric classification on each grid point.  This method may take a few minutes for a dense grid, but for this experiment it should run in a few seconds since the grid is not very coarse.  Also, to simplify the analysis later, we have the set the bounding box of the grid to a relatively small region of the scene.  If you set, `bbox = None`, it will use the full scene area."
   ]
  },
  {
   "cell_type": "code",
   "execution_count": null,
   "id": "64d5e62a-511e-495f-a751-78d24e9fdc05",
   "metadata": {},
   "outputs": [],
   "source": [
    "from sionnautils.miutils import CoverageMapPlanner\n",
    "\n",
    "grid_size = 5\n",
    "\n",
    "# Set a bounding box in the center bbox = [xmin, xmax, ymin, ymax]\n",
    "bbox = [-200,200,-200,200]\n",
    "\n",
    "cm = CoverageMapPlanner(scene._scene, grid_size=grid_size, bbox=bbox)\n",
    "cm.set_grid()\n",
    "cm.compute_grid_attributes()"
   ]
  },
  {
   "cell_type": "markdown",
   "id": "2b1f0f02-8c6b-4208-9686-b9c8ba71aecc",
   "metadata": {},
   "source": [
    "Running the above command will create a few useful arrays:\n",
    "* `cm.nx, cm.ny` : Number of grid points in the `x` and `y` directions\n",
    "* `cm.x` :  a `nx`-dimension vector of the `x`-values of the grid points\n",
    "* `cm.y` :  a `ny`-dimension vector of the `y`-values of the grid points\n",
    "* `cm.xgrid`, `cm.ygrid`: `(ny,nx)` grid of points with the `x` and `y` values of the grid points\n",
    "* `cm.zmin_grid`, `cm.zmax_grid`:  `(ny,nx)` grids of values indicating the maximum and minimum value of `z` values of objects in the scene at the grid points.  `cm.zmin_grid[i,j]` is generally the elevation of the ground at the location `(i,j)` and `cm.zmax_grid[i,j]` is the elevation of the rooftop at `(i,j)`.\n",
    "* `cm.bldg_grid`:  A `(ny,nx)` grid of values where `cm.bldg_grid[i,j]==1` indicates if the point is estimated to be an outdoor location.  A point `(i,j)` is assumed to be outdoor if `cm.zmin[i,j] ~= cm.zmax[i,j]`.\n",
    "* `cm.in_region`:  A `(ny,nx)` grid of values where `cm.in_region[i,j]==1` ndicates if the point is estimated to in the region of the buildings, meaning that there is at least one non-outdoor point to the left and right of the point.\n",
    "\n",
    "You can display this map as follows:\n",
    "\n",
    "* Create an array `point_type` where `point_type[i,j] == 0` if the outside the region (i.e., `cm.in_region[i,j]==False`); `point_type[i,j] == 1` if inside the region and not a building; and `point_type[i,j] == 2` if the point is a building.\n",
    "* Flip the `point_type` array with `point_type = np.flipud(point_type)`.  We do this since the `imshow` command expects the larger values of `y` to be at the top.\n",
    "* Plot `point_type` with `plt.imshow(point_type, cmap=cmap, extent=...)`.  You will want to set the `extent=[xmin, xman, ymin, ymax]` which you can get from the vectors `cm.x` and `cm.y`.  The `cmap` parameter sets the color map.\n",
    "* Label the `x` and `y` axes.\n",
    "* If you want to be fancy, add a legend, but you don't have to do that."
   ]
  },
  {
   "cell_type": "code",
   "execution_count": null,
   "id": "7c1c1942-52a0-4f2c-9be1-7f1639467114",
   "metadata": {
    "scrolled": true
   },
   "outputs": [],
   "source": [
    "# Define a custom color map with RGB values\n",
    "from matplotlib.colors import ListedColormap\n",
    "colors = ['lightgray', 'lightblue', 'brown']\n",
    "cmap = ListedColormap(colors)\n",
    "\n",
    "\n",
    "# TODO:  Create a grid of point types\n",
    "#   point_type = ...\n",
    "\n",
    "# TODO:  Plot the grid\n",
    "#   extent = ...\n",
    "#   plt.imshow(...)\n",
    "\n"
   ]
  },
  {
   "cell_type": "markdown",
   "id": "3a46bc8e-2806-45e6-b968-a55b006cc4a3",
   "metadata": {},
   "source": [
    "## Creating a Set of Test Transmitters and Receivers\n",
    "In simulating propagation in cellular systems, we often place a number of transmitters in typical locations for base stations, and receivers in locations where users may have a handset.  In this case, we will place the transmitters at random locations on top of rooftops.  To do this:\n",
    "\n",
    "* Find `ntx` random indices `(i,j)` which correspond to a building.  That is, `cm.bldg_grid[i,j]==True`\n",
    "* For each location, find the `x` and `y` locations.  Note that a point `(i,j)` is at the `(x,y)=(cm.x[j], cm.y[i])`.  Note the reversal in `(i,j)`.\n",
    "* For each location, set the `z` value to `cm.zmax_grid[i,j] + height_above_roof`.  This will place the transmitter above the roof similar to a typical base station.  Here, we have placed a bit higher than usual, but we are not selecting the rooftop location particularly well.\n",
    "* Store the final set of locations in an array `tx_pos` which should be `(ntx,3)`."
   ]
  },
  {
   "cell_type": "code",
   "execution_count": null,
   "id": "b171a380-f0fd-4748-b113-44c839f853b9",
   "metadata": {},
   "outputs": [],
   "source": [
    "ntx = 3\n",
    "height_above_roof = 10\n",
    "\n",
    "# TODO:  Find ntx random indices\n",
    "#   tx_ind = ...\n",
    "\n",
    "\n",
    "#  TODO:  Set the tx positions\n",
    "#   tx_pos = ..."
   ]
  },
  {
   "cell_type": "markdown",
   "id": "df1b864b-9039-429d-8b36-6d7a713a4b43",
   "metadata": {},
   "source": [
    "To validate the selection, plot the map `point_type` again.  On top of the plot, plot the markers (say small blue circles) where the transmitters are.  You should see that they are on the building locations"
   ]
  },
  {
   "cell_type": "code",
   "execution_count": null,
   "id": "859b24bf-511a-4db6-a208-93134ca39d99",
   "metadata": {},
   "outputs": [],
   "source": [
    "# TODO:  PLot the area with the TX\n",
    "#   plt.imshow(point_type, ...)\n",
    "#   plt.scatter(...)"
   ]
  },
  {
   "cell_type": "markdown",
   "id": "19423c84-5718-4fee-801b-053fb4e57454",
   "metadata": {},
   "source": [
    "Next, we add the receivers:\n",
    "\n",
    "* Find `nrx` random indices `(i,j)` which correspond to a point in the region, but not a building.  That is, `cm.bldg_grid[i,j]==False` and `cm.in_region[i,j] == True`.\n",
    "* For each location, find the `x` and `y` locations. \n",
    "* For each location, set the `z` value to `cm.zmin_grid[i,j] + height_above_ground`.  This will place the receiver slightly above ground, about the distance is cell phone is carried.\n",
    "* Store the final set of locations in an array `rx_pos` which should be `(nrx,3)`.\n",
    "* Create a plot with the TX and RX locations"
   ]
  },
  {
   "cell_type": "code",
   "execution_count": 1,
   "id": "8eddad71-a912-4860-8d50-b33a2f53bea0",
   "metadata": {},
   "outputs": [],
   "source": [
    "nrx = 100\n",
    "\n",
    "# TODO:  Find the RX locations\n",
    "#   rx_pos = ...\n",
    "\n",
    "\n",
    "# TODO:  Plot the map with the TX and RX locations"
   ]
  },
  {
   "cell_type": "markdown",
   "id": "dbcd09b5-07c2-4d5e-80d2-8439965929fc",
   "metadata": {},
   "source": [
    "## Running the Ray Tracing\n",
    "Now that we have a 3D environment and TX and RX locations, we can run the ray tracing.\n",
    "\n",
    "First, we configure the antennas and add the receivers. We will add the transmitters later.  For the antennas use vertically polarized isotropic antennas."
   ]
  },
  {
   "cell_type": "code",
   "execution_count": null,
   "id": "83f65763-336d-4630-9479-e47f24bb2992",
   "metadata": {},
   "outputs": [],
   "source": [
    "# Frequency in Hz\n",
    "fc = 2.5e9\n",
    "\n",
    "scene.frequency = fc # in Hz; implicitly updates RadioMaterials\n",
    "scene.synthetic_array = True # If set to False, ray tracing will be done per antenna element\n",
    "\n",
    "# TODO:  Configure antenna array for all transmitters.  Use an iso pattern with V-pol\n",
    "#   scene.tx_array = sn.rt.PlanarArray(...)\n",
    "scene.tx_array = sn.rt.PlanarArray(num_rows=1,\n",
    "                             num_cols=1,\n",
    "                             vertical_spacing=0.5,\n",
    "                             horizontal_spacing=0.5,\n",
    "                             pattern=\"iso\",\n",
    "                             polarization=\"V\")\n",
    "\n",
    "# TODO:  Configure antenna array for all receivers similarly\n",
    "#    scene.rx_array = sn.rt.PlanarArray(...)\n",
    "scene.rx_array = sn.rt.PlanarArray(num_rows=1,\n",
    "                             num_cols=1,\n",
    "                             vertical_spacing=0.5,\n",
    "                             horizontal_spacing=0.5,\n",
    "                             pattern=\"iso\",\n",
    "                             polarization=\"V\")\n",
    "\n",
    "# Remove all previous receivers\n",
    "for rx_name in scene.receivers:\n",
    "    scene.remove(rx_name)\n",
    "    \n",
    "# TODO:  Add receivers at the locations rx_pos\n"
   ]
  },
  {
   "cell_type": "markdown",
   "id": "cae060bc-f0a1-4ecd-be35-380bc9531ab9",
   "metadata": {},
   "source": [
    "Next we compute the paths.  We run the ray tracing in a number of *runs*, with one TX in each run.  At least on my computer, sionna seems to struggle with even a small number of links to simulate.  So, we need to break the simulation into smaller runs.  I am not sure if there is something wrong in the configuration.  \n",
    "\n",
    "*Warning*:  In addition to the limited capacity of sionna, sometimes if you run the same cell many times, Nvidia's sionna will throw a `ResourceExhaustedError`.  My feeling is that this is a memory leak as the code does not seem to clear the memory.    If you run into this, restart the kernel from the beginning."
   ]
  },
  {
   "cell_type": "code",
   "execution_count": null,
   "id": "eb9ea5a8-b478-4665-aec7-def806f3ed2d",
   "metadata": {},
   "outputs": [],
   "source": [
    "# Parameters\n",
    "diffraction = False\n",
    "scattering = False\n",
    "num_samples = 1e6\n",
    "max_depth = 5\n",
    "scene.synthetic_array = True\n",
    "\n",
    "path_dict_list  = []\n",
    "\n",
    "# Loop over runs\n",
    "for i in range(ntx):\n",
    "    print('Tx = %d' % i)\n",
    "    \n",
    "    # Remove all previous transmitters\n",
    "    for tx_name in scene.transmitters:\n",
    "        scene.remove(tx_name)\n",
    "\n",
    "    # TODO:  Add a transmitter at position tx_pos[i]\n",
    "    #  tx = ...\n",
    "    #  scene.add(tx)\n",
    "    tx = sn.rt.Transmitter(name=f\"tx-{i}\",\n",
    "                  position=tx_pos[i])\n",
    "    scene.add(tx)\n",
    "\n",
    "    # Run ray tracing with this transitter\n",
    "    paths = scene.compute_paths(max_depth=max_depth,\n",
    "                            diffraction=diffraction,\n",
    "                            scattering=scattering,\n",
    "                            num_samples=num_samples)\n",
    "\n",
    "    paths.normalize_delays = False\n",
    "\n",
    "    # Extract a dictionary of the path data\n",
    "    path_dict = paths.to_dict()\n",
    "\n",
    "    # Save the path dictionary\n",
    "    path_dict_list.append(path_dict)"
   ]
  },
  {
   "cell_type": "markdown",
   "id": "ef61dbec-8439-4e61-aa7c-bf746a1e5eea",
   "metadata": {},
   "source": [
    "Since the ray tracing takes a long time, it is useful to save the results in case we need them later."
   ]
  },
  {
   "cell_type": "code",
   "execution_count": null,
   "id": "7f6fd4db-58f7-4b5e-81f7-cd4ea0f9c57a",
   "metadata": {},
   "outputs": [],
   "source": [
    "import pickle\n",
    "\n",
    "# Save the variable to a file\n",
    "with open('rt_data.pkl', 'wb') as file:\n",
    "    pickle.dump([rx_pos, tx_pos, path_dict_list], file)\n",
    "    \n"
   ]
  },
  {
   "cell_type": "markdown",
   "id": "f73acd20-6872-4b49-803c-731a3adf83cc",
   "metadata": {},
   "source": [
    "We can load it as follows"
   ]
  },
  {
   "cell_type": "code",
   "execution_count": null,
   "id": "899db069-b539-4169-a680-21d93d8a5719",
   "metadata": {},
   "outputs": [],
   "source": [
    "# Load the variable from the file\n",
    "with open('rt_data.pkl', 'rb') as file:\n",
    "    rx_pos, tx_pos, path_dict_list = pickle.load(file)"
   ]
  },
  {
   "cell_type": "markdown",
   "id": "4ca91a01-0e09-4e00-884a-ac9bf8ab8fae",
   "metadata": {},
   "source": [
    "## Classifying Link State\n",
    "\n",
    "A *link* is a channel from a single TX to asingle RX.  Typically, links can be in one of three states:\n",
    "* *Line-of-sight (LOS)*:  if there is a direct path from the TX to RX without any interactions such as reflections, diffractions, or transmission.\n",
    "* *Non-line-of-sight (NLOS)* meaning there is at least one path from the TX to RX, but no LOS path.\n",
    "* *Outage* if there are no paths of significant power\n",
    "\n",
    "As a first step in analyzing the paths, we show how to classify each link. To do this, we will use the data in the `path_dict_list` which is a list of dictionaries with one dictionary per run.  Complete the following code to print the elements of the dictionary for the first run.  Get the first dictionary in the list and print its keys."
   ]
  },
  {
   "cell_type": "code",
   "execution_count": null,
   "id": "816df7a9-6f15-4a19-bea4-154e1d6d6f89",
   "metadata": {},
   "outputs": [],
   "source": [
    "path_dict = path_dict_list[0]  # The first path dictionary\n",
    "\n",
    "# TODO:  print the keys in path_dict.keys()"
   ]
  },
  {
   "cell_type": "markdown",
   "id": "850e3da6-3cf8-447a-9ac3-efd5a578dadc",
   "metadata": {},
   "source": [
    "You will that the dictionary `path_dict` has many entries for different characteristics of the paths.  For the link state, we will use the `path_dict[`tau`]` array which is of the shape:\n",
    "~~~\n",
    "    nbatch, nrx0, ntx0, npath_max0 = path_dict[`tau`].shape\n",
    "~~~\n",
    "where \n",
    "* `nbatch` is the number of samples per batch.  For our simulation, it is one\n",
    "* `nrx0` is the number of receivers.  In our case, `nrx0=nrx` since each run had all the receivers\n",
    "* `ntx0` is the number of transmitters in the run.  In our case, it is one\n",
    "* `npath_max0` is the maximum number of paths.\n",
    "By covention, if `tau=path_dict['tau']`, a component in the array `tau[0,irx.itx,ipath] > 0` if the path is valid.  A negative value indicates no path.  Also, the first path  `tau[0,irx.itx,0]` always corresponds to the LOS.\n",
    "\n",
    "We can also use:\n",
    "* `path_dict['sources']` is an `(ntx0,3)` array of the locations of all the transmitters in the run\n",
    "* `path_dict['targets']` is an `(nrx0,3)` array of the locations of all the receivers in the run\n",
    "\n",
    "To classify the links:\n",
    "* Convert `path_dict['tau']`, `path_dict['targets']` and `path_dict['sources']` to numpy arrays `tau`, `rx_pos0`, `tx_pos0`.\n",
    "* Using `rx_pos0` and `tx_pos0` create a matrix `dist0` of shape `(nrx0,ntx0)` of the distances between the TX and RXs.\n",
    "* A link is LOS if the `tau[0,irx,itx,0] > 0`.  Similarly, a link is in outage if `tau[0,irx,itx,ipath] < 0` for all paths `ipath`.  Use this to create an array `link_state0` where `link_state0[irx,itx] = outage_state, los_state` or `nlos_state` depending on the link state.\n",
    "* Create a scatter plot of `link_state0` vs. `dist0`. \n",
    "\n",
    "You should see that the LOS links are more common at closer distances and the outage links are more common at larger distances."
   ]
  },
  {
   "cell_type": "code",
   "execution_count": null,
   "id": "98f3d8cd-9220-4551-bf51-b0d079faa761",
   "metadata": {},
   "outputs": [],
   "source": [
    "# Link states\n",
    "outage_state = 0\n",
    "nlos_state = 1\n",
    "los_state = 2\n",
    "nlink_states = 3\n",
    "\n",
    "\n",
    "# TODO:  Convert `path_dict['tau']`, `path_dict['sources']` and `path_dict['targets']` to numpy arrays\n",
    "#   tau = ...\n",
    "#   tx_pos0 = ...\n",
    "#   rx_pos0 = ...\n",
    "\n",
    "# TODO:  Create an array of distances \n",
    "#  dist0 = ...\n",
    "\n",
    "\n",
    "# TODO:  Create an array of link state values\n",
    "#   link_state0 = ...\n",
    "\n",
    "\n",
    "# TODO:  Create a scatter plot of the values in link_state0 vs. dist0\n"
   ]
  },
  {
   "cell_type": "markdown",
   "id": "163243de-cd82-473c-8966-5a0e5726e5c0",
   "metadata": {},
   "source": [
    "Now, repeat the above code for all the runs in `path_dict_list`.  Aggregate the results into vectors `dist` and `link_state`.  The total number of entries in each vector should `nrx*ntx`.  "
   ]
  },
  {
   "cell_type": "code",
   "execution_count": null,
   "id": "a8b301ac-3ae6-421e-904c-11f442d9abf4",
   "metadata": {},
   "outputs": [],
   "source": [
    "dist = np.zeros((0,))\n",
    "link_state = np.zeros((0,))\n",
    "\n",
    "for path_dict in path_dict_list:\n",
    "    # TODO: Get tau, tx_pos0 and rx_pos0\n",
    "     \n",
    "    # TODO:  Create an array of distances \n",
    "    #  dist0 = ...\n",
    "    \n",
    "    # TODO:  Create an array of link state values\n",
    "    #   link_state0 = ...\n",
    "\n",
    "    # TODO:  Flatten dist0 and link_state0 and append to \n",
    "    # dist and link_state with np.concatenate()\n",
    " "
   ]
  },
  {
   "cell_type": "markdown",
   "id": "64d25ce5-4754-44e9-9188-f2145cb1f948",
   "metadata": {},
   "source": [
    "Now display the link state probability as a function of distance via a bar graph.  As an example, your graph could look as follows:\n",
    "\n",
    "<img src=\"https://raw.githubusercontent.com/sdrangan/wirelesscomm/master/unit02_propagation/link_state_hist.png\" width=\"400\">"
   ]
  },
  {
   "cell_type": "code",
   "execution_count": null,
   "id": "fab9233f-2092-4719-8c74-6a4818a2c160",
   "metadata": {},
   "outputs": [],
   "source": [
    "# TODO:  Create a probability plot as above\n"
   ]
  },
  {
   "cell_type": "markdown",
   "id": "9263d72c-c636-4c23-a48f-0d04ede73f37",
   "metadata": {},
   "source": [
    "## Examining Path Loss vs. Distance\n",
    "\n",
    "In this final section, we will measure the total received power on all paths.  The path data is the array `path_dict['a']`.  If we set `a = path_dict['a']` it will have the shape:\n",
    "~~~\n",
    "   (nbatch, nrx0, nant_rx, ntx0, nant_tx, npath_max, ntime)\n",
    "~~~\n",
    "In our simulation, all but `nrx0`, `ntx0`, and `npath_max` are 1.  Each value is `a[0,irx,0,itx,0,j,0]` is the complex gain on path `j` between TX `itx` and RX `irx`.  By summing the magnitude squared of the gains along the paths, we can compute the total path gain, or equivalently, the path loss.  Complete the code below to compute the path loss across all the links.  Note that the values in the array `a` are independent of the TX power.\n"
   ]
  },
  {
   "cell_type": "code",
   "execution_count": null,
   "id": "35586135-3024-49fa-86f2-3cf0c2d4efc1",
   "metadata": {},
   "outputs": [],
   "source": [
    "path_loss = np.zeros((0,))\n",
    "\n",
    "for path_dict in path_dict_list:\n",
    "    # TODO: a and convert to numpy\n",
    "    #  a = ...\n",
    " \n",
    "    # Compute the total RX power\n",
    "    #  rx_pow0 = ... \n",
    "    \n",
    "    # TODO:  Compute the path loss in dBm.  When rx_pow0[irx,itx] == 0,\n",
    "    # set the path loss to some high value.\n",
    "    #   path_loss0\n",
    "\n",
    "    # TODO:  Flatten path_loss0 and concatenate with path_loss\n"
   ]
  },
  {
   "cell_type": "markdown",
   "id": "66c5f58c-323b-420a-89a5-5978474368a9",
   "metadata": {},
   "source": [
    "On a single plot, plot:\n",
    "* A scatter plot of `path_loss` vs. `distance` for the LOS points.\n",
    "* A scatter plot of `path_loss` vs. `distance` for the NLOS points.\n",
    "* Path loss vs. distance for Friis law\n",
    "\n",
    "Use `semilogx` to keep the distance in logarithmic scale  Put a legend on your plot."
   ]
  },
  {
   "cell_type": "code",
   "execution_count": 2,
   "id": "50dd5347-4ebb-473c-a7a6-988d2dd370ec",
   "metadata": {},
   "outputs": [],
   "source": [
    "# TODO:  Create the plot as described above\n"
   ]
  },
  {
   "cell_type": "code",
   "execution_count": null,
   "id": "b184b03b-5ac0-4e3e-96af-5914476c81c9",
   "metadata": {},
   "outputs": [],
   "source": []
  },
  {
   "cell_type": "code",
   "execution_count": null,
   "id": "f8abc5c9-6812-4225-8a12-0fc30fdb040a",
   "metadata": {},
   "outputs": [],
   "source": []
  }
 ],
 "metadata": {
  "colab": {
   "include_colab_link": true,
   "provenance": []
  },
  "kernelspec": {
   "display_name": "Python 3 (ipykernel)",
   "language": "python",
   "name": "python3"
  },
  "language_info": {
   "codemirror_mode": {
    "name": "ipython",
    "version": 3
   },
   "file_extension": ".py",
   "mimetype": "text/x-python",
   "name": "python",
   "nbconvert_exporter": "python",
   "pygments_lexer": "ipython3",
   "version": "3.11.5"
  }
 },
 "nbformat": 4,
 "nbformat_minor": 5
}
